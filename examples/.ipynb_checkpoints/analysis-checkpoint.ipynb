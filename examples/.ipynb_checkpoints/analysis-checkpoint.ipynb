{
 "cells": [
  {
   "cell_type": "markdown",
   "metadata": {},
   "source": [
    "### Load a map"
   ]
  },
  {
   "cell_type": "code",
   "execution_count": 2,
   "metadata": {},
   "outputs": [
    {
     "name": "stdout",
     "output_type": "stream",
     "text": [
      "map rr30a loaded in 0.35 seconds.\n"
     ]
    }
   ],
   "source": [
    "from pymapmanager.mmMap import mmMap\n",
    "\n",
    "# load a map\n",
    "filePath = '/Users/cudmore/Desktop/data/cudmore/rr30a/rr30a.txt'\n",
    "m = mmMap(filePath=filePath)"
   ]
  },
  {
   "cell_type": "markdown",
   "metadata": {},
   "source": [
    "### Get spine length statistics (mean/std/n) for each segment in a stack"
   ]
  },
  {
   "cell_type": "code",
   "execution_count": 3,
   "metadata": {},
   "outputs": [
    {
     "data": {
      "text/html": [
       "<div>\n",
       "<table border=\"1\" class=\"dataframe\">\n",
       "  <thead>\n",
       "    <tr>\n",
       "      <th></th>\n",
       "      <th>mean</th>\n",
       "      <th>std</th>\n",
       "      <th>&lt;lambda&gt;</th>\n",
       "    </tr>\n",
       "    <tr>\n",
       "      <th></th>\n",
       "      <th>sLen3d_int1</th>\n",
       "      <th>sLen3d_int1</th>\n",
       "      <th>sLen3d_int1</th>\n",
       "    </tr>\n",
       "    <tr>\n",
       "      <th>parentID</th>\n",
       "      <th></th>\n",
       "      <th></th>\n",
       "      <th></th>\n",
       "    </tr>\n",
       "  </thead>\n",
       "  <tbody>\n",
       "    <tr>\n",
       "      <th>0</th>\n",
       "      <td>1.873956</td>\n",
       "      <td>0.588244</td>\n",
       "      <td>50</td>\n",
       "    </tr>\n",
       "    <tr>\n",
       "      <th>1</th>\n",
       "      <td>1.507003</td>\n",
       "      <td>0.557636</td>\n",
       "      <td>22</td>\n",
       "    </tr>\n",
       "    <tr>\n",
       "      <th>2</th>\n",
       "      <td>1.984370</td>\n",
       "      <td>0.720545</td>\n",
       "      <td>39</td>\n",
       "    </tr>\n",
       "    <tr>\n",
       "      <th>3</th>\n",
       "      <td>2.108810</td>\n",
       "      <td>0.453743</td>\n",
       "      <td>8</td>\n",
       "    </tr>\n",
       "    <tr>\n",
       "      <th>4</th>\n",
       "      <td>1.737929</td>\n",
       "      <td>0.769615</td>\n",
       "      <td>14</td>\n",
       "    </tr>\n",
       "  </tbody>\n",
       "</table>\n",
       "</div>"
      ],
      "text/plain": [
       "                mean         std    <lambda>\n",
       "         sLen3d_int1 sLen3d_int1 sLen3d_int1\n",
       "parentID                                    \n",
       "0           1.873956    0.588244          50\n",
       "1           1.507003    0.557636          22\n",
       "2           1.984370    0.720545          39\n",
       "3           2.108810    0.453743           8\n",
       "4           1.737929    0.769615          14"
      ]
     },
     "execution_count": 3,
     "metadata": {},
     "output_type": "execute_result"
    }
   ],
   "source": [
    "import numpy as np\n",
    "import pandas as pd\n",
    "\n",
    "stackIdx = 1\n",
    "df = m.stacks[stackIdx].stackdb\n",
    "\n",
    "stat = 'sLen3d_int1' # other names are ('ubssSum_int1', etc etc)\n",
    "pd.pivot_table(df,index=['parentID'],values=[stat],aggfunc=[np.mean, np.std, lambda x: len(x.dropna().unique())])\n",
    "\n",
    "# That last term 'lambda x: len(x.dropna().unique())' is used to count the number of spines in each segment.\n",
    "# This is getting complicated, time to learn python"
   ]
  },
  {
   "cell_type": "markdown",
   "metadata": {
    "collapsed": true
   },
   "source": [
    "### Get a list of all annotation names"
   ]
  },
  {
   "cell_type": "code",
   "execution_count": 5,
   "metadata": {},
   "outputs": [
    {
     "name": "stdout",
     "output_type": "stream",
     "text": [
      "['Idx', 'roiType', 'roiTypeNum', 'x', 'y', 'z', 'channel', 'groupID', 'parentID', 'cPnt', 'sDist', 'pDist', 'cAuto', 'cAngle', 'cLine', 'cLineNum', 'cx', 'cy', 'cz', 'cDate', 'cTime', 'mDate', 'mTime', 'cSeconds', 'mSeconds', 'userName', 'note', 'edgeList', 'isDirty', 'isBad', 'dynBad', 'intBad', 'progType', 'madeFrom', 'analParam', 'analResult1', 'analResult2', 'analResult3', 'analResult4', 'user1', 'user2', 'user3', 'userBool1', 'userBool2', 'userBool3', 'userType', 'bSpineMap', 'bSpineIdx', 'error', 'warning', 'Unnamed: 50', 'mapName', 'mapSession', 'next', 'nexttp', 'prev', 'prevtp', 'runIdx', 'days', 'sessCond', 'mapCond', 'isAdd', 'isSub', 'isTransient', 'idx_int1', 'x_int1', 'y_int1', 'z_int1', 'sLen2d_int1', 'sLen3d_int1', 'intmSeconds_int1', 'isDirty_int1', 'intBad_int1', 'intManual_int1', 'spineWidth_int1', 'extendHead_int1', 'extendTail_int1', 'scaleRadius_int1', 'zPlusMinus_int1', 'sSum_int1', 'sMean_int1', 'sSD_int1', 'sN_int1', 'sbSum_int1', 'sbMean_int1', 'sbSD_int1', 'sbN_int1', 'sbxyManual_int1', 'sbxPos_int1', 'sbyPos_int1', 'dSum_int1', 'dMean_int1', 'dSD_int1', 'dN_int1', 'dPlus_int1', 'dMinus_int1', 'dbSum_int1', 'dbMean_int1', 'dbSD_int1', 'dbN_int1', 'ubssSum_int1', 'ubssMean_int1', 'ubsdSum_int1', 'ubsdMean_int1', 'utssmoss_int1', 'utsmmosm_int1', 'utssdoss_int1', 'utsmdosm_int1', 'utssmods_int1', 'utsmmodm_int1', 'utssdods_int1', 'utsmdodm_int1', 'Unnamed: 48_int1', 'idx_int2', 'x_int2', 'y_int2', 'z_int2', 'sLen2d_int2', 'sLen3d_int2', 'intmSeconds_int2', 'isDirty_int2', 'intBad_int2', 'intManual_int2', 'spineWidth_int2', 'extendHead_int2', 'extendTail_int2', 'scaleRadius_int2', 'zPlusMinus_int2', 'sSum_int2', 'sMean_int2', 'sSD_int2', 'sN_int2', 'sbSum_int2', 'sbMean_int2', 'sbSD_int2', 'sbN_int2', 'sbxyManual_int2', 'sbxPos_int2', 'sbyPos_int2', 'dSum_int2', 'dMean_int2', 'dSD_int2', 'dN_int2', 'dPlus_int2', 'dMinus_int2', 'dbSum_int2', 'dbMean_int2', 'dbSD_int2', 'dbN_int2', 'ubssSum_int2', 'ubssMean_int2', 'ubsdSum_int2', 'ubsdMean_int2', 'utssmoss_int2', 'utsmmosm_int2', 'utssdoss_int2', 'utsmdosm_int2', 'utssmods_int2', 'utsmmodm_int2', 'utssdods_int2', 'utsmdodm_int2', 'Unnamed: 48_int2']\n"
     ]
    }
   ],
   "source": [
    "names = m.stacks[0].annotationNames\n",
    "print names"
   ]
  },
  {
   "cell_type": "markdown",
   "metadata": {},
   "source": [
    "### Make sure you are using valid annotation names"
   ]
  },
  {
   "cell_type": "code",
   "execution_count": 7,
   "metadata": {},
   "outputs": [
    {
     "name": "stdout",
     "output_type": "stream",
     "text": [
      "True\n"
     ]
    }
   ],
   "source": [
    "myStat = 'ubssSum_int1'\n",
    "# make sure myStat is a valid annotation name\n",
    "print myStat in m.stacks[0].annotationNames"
   ]
  },
  {
   "cell_type": "code",
   "execution_count": null,
   "metadata": {
    "collapsed": true
   },
   "outputs": [],
   "source": []
  }
 ],
 "metadata": {
  "kernelspec": {
   "display_name": "Python 2",
   "language": "python",
   "name": "python2"
  },
  "language_info": {
   "codemirror_mode": {
    "name": "ipython",
    "version": 2
   },
   "file_extension": ".py",
   "mimetype": "text/x-python",
   "name": "python",
   "nbconvert_exporter": "python",
   "pygments_lexer": "ipython2",
   "version": "2.7.13"
  }
 },
 "nbformat": 4,
 "nbformat_minor": 1
}
