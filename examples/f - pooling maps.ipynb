{
 "cells": [
  {
   "cell_type": "markdown",
   "metadata": {},
   "source": [
    "### A mmMapPool holds a list of maps and is created by giving it a folder with maps"
   ]
  },
  {
   "cell_type": "code",
   "execution_count": 1,
   "metadata": {},
   "outputs": [
    {
     "name": "stdout",
     "output_type": "stream",
     "text": [
      "mmMapPool() loading map: rr30a\n",
      "map rr30a loaded in 0.45 seconds.\n",
      "mmMapPool() loading map: rr49c\n",
      "map rr49c loaded in 0.31 seconds.\n",
      "mmMapPool() loading map: rr50b\n",
      "map rr50b loaded in 0.47 seconds.\n",
      "mmMapPool() loading map: rr52c\n",
      "map rr52c loaded in 0.55 seconds.\n",
      "mmMapPool() loading map: rr58b\n",
      "map rr58b loaded in 0.7 seconds.\n",
      "mmMapPool() loading map: rr58c\n",
      "map rr58c loaded in 0.39 seconds.\n",
      "mmMapPool() loaded 6 maps in 2.86541891098 seconds.\n",
      "pool: num maps:6 num obj:13705\n"
     ]
    }
   ],
   "source": [
    "from pymapmanager.mmMapPool import mmMapPool\n",
    "\n",
    "# Specify a folder that contains folders of maps\n",
    "path = 'exampleMaps/'\n",
    "\n",
    "maps = mmMapPool(path)\n",
    "print maps"
   ]
  },
  {
   "cell_type": "markdown",
   "metadata": {},
   "source": [
    "### mmMapPool can be iterated to generate a sequence of map objects"
   ]
  },
  {
   "cell_type": "code",
   "execution_count": 2,
   "metadata": {},
   "outputs": [
    {
     "name": "stdout",
     "output_type": "stream",
     "text": [
      "map:rr30a map segments:5 stacks:9 total object:2467\n",
      "map:rr49c map segments:3 stacks:6 total object:1343\n",
      "map:rr50b map segments:4 stacks:10 total object:2173\n",
      "map:rr52c map segments:3 stacks:13 total object:1972\n",
      "map:rr58b map segments:3 stacks:15 total object:4246\n",
      "map:rr58c map segments:3 stacks:10 total object:1504\n"
     ]
    }
   ],
   "source": [
    "for map in maps:\n",
    "    print map"
   ]
  },
  {
   "cell_type": "markdown",
   "metadata": {},
   "source": [
    "### and a map can be iterated to generate a sequence of stacks"
   ]
  },
  {
   "cell_type": "code",
   "execution_count": 4,
   "metadata": {},
   "outputs": [
    {
     "name": "stdout",
     "output_type": "stream",
     "text": [
      "map pool has 6 maps and  63 stacks.\n"
     ]
    }
   ],
   "source": [
    "mapCount = 0\n",
    "stackCount = 0\n",
    "for map in maps:\n",
    "    mapCount += 1\n",
    "    for stack in map:\n",
    "        #print stack\n",
    "        stackCount += 1\n",
    "print 'map pool has', mapCount, 'maps and ', stackCount, 'stacks.'"
   ]
  },
  {
   "cell_type": "markdown",
   "metadata": {
    "collapsed": true
   },
   "source": [
    "### A mmStackPool holds a list of stack (use this to load a directory of .tif)"
   ]
  },
  {
   "cell_type": "code",
   "execution_count": 4,
   "metadata": {},
   "outputs": [
    {
     "name": "stdout",
     "output_type": "stream",
     "text": [
      "mmStackPool() loaded 0 stacks in 0.000385046005249 seconds.\n",
      "pool: num stacks:0 num obj:0\n"
     ]
    }
   ],
   "source": [
    "from pymapmanager.mmStackPool import mmStackPool\n",
    "\n",
    "path = 'exampleMaps/'\n",
    "\n",
    "stacks = mmStackPool(path)\n",
    "print stacks"
   ]
  },
  {
   "cell_type": "code",
   "execution_count": null,
   "metadata": {
    "collapsed": true
   },
   "outputs": [],
   "source": []
  }
 ],
 "metadata": {
  "anaconda-cloud": {},
  "kernelspec": {
   "display_name": "Python 2",
   "language": "python",
   "name": "python2"
  },
  "language_info": {
   "codemirror_mode": {
    "name": "ipython",
    "version": 2
   },
   "file_extension": ".py",
   "mimetype": "text/x-python",
   "name": "python",
   "nbconvert_exporter": "python",
   "pygments_lexer": "ipython2",
   "version": "2.7.14"
  }
 },
 "nbformat": 4,
 "nbformat_minor": 2
}
