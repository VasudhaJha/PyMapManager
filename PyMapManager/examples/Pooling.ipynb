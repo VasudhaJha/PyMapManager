{
 "cells": [
  {
   "cell_type": "markdown",
   "metadata": {},
   "source": [
    "### A mmMapPool holds a list of maps and is created by giving it a folder with maps"
   ]
  },
  {
   "cell_type": "code",
   "execution_count": 3,
   "metadata": {},
   "outputs": [
    {
     "name": "stdout",
     "output_type": "stream",
     "text": [
      "mmMapPool() loading map: rr30a\n",
      "map rr30a loaded in 0.63 seconds.\n",
      "mmMapPool() loading map: rr47b\n",
      "map rr47b loaded in 0.57 seconds.\n",
      "mmMapPool() loading map: rr49c\n",
      "map rr49c loaded in 0.5 seconds.\n",
      "mmMapPool() loading map: rr50b\n",
      "map rr50b loaded in 0.66 seconds.\n",
      "mmMapPool() loading map: rr52c\n",
      "map rr52c loaded in 0.74 seconds.\n",
      "mmMapPool() loading map: rr58b\n",
      "map rr58b loaded in 0.89 seconds.\n",
      "mmMapPool() loading map: rr58c\n",
      "map rr58c loaded in 0.61 seconds.\n",
      "mmMapPool() loaded 7 maps in 4.61459493637 seconds.\n",
      "pool: num maps:7 num obj:15195\n"
     ]
    }
   ],
   "source": [
    "from pymapmanager.mmMap import mmMapPool\n",
    "\n",
    "# Specify a folder that contains folders of maps\n",
    "\n",
    "#path = '/Users/cudmore/MapManagerData/richard/Nancy/'\n",
    "path = '/Volumes/fourt/MapManagerData/richard/Nancy/'\n",
    "\n",
    "maps = mmMapPool(path)\n",
    "print maps"
   ]
  },
  {
   "cell_type": "markdown",
   "metadata": {},
   "source": [
    "### mmMapPool can be iterated to generate a sequence of map objects"
   ]
  },
  {
   "cell_type": "code",
   "execution_count": 4,
   "metadata": {},
   "outputs": [
    {
     "name": "stdout",
     "output_type": "stream",
     "text": [
      "map:rr30a map segments:5 stacks:9 total object:2467\n",
      "map:rr47b map segments:3 stacks:9 total object:1490\n",
      "map:rr49c map segments:3 stacks:6 total object:1343\n",
      "map:rr50b map segments:4 stacks:10 total object:2173\n",
      "map:rr52c map segments:3 stacks:13 total object:1972\n",
      "map:rr58b map segments:3 stacks:15 total object:4246\n",
      "map:rr58c map segments:3 stacks:10 total object:1504\n"
     ]
    }
   ],
   "source": [
    "for map in maps:\n",
    "    print map"
   ]
  },
  {
   "cell_type": "markdown",
   "metadata": {},
   "source": [
    "### and a map can be iterated to generate a sequence of stacks"
   ]
  },
  {
   "cell_type": "code",
   "execution_count": 5,
   "metadata": {},
   "outputs": [
    {
     "name": "stdout",
     "output_type": "stream",
     "text": [
      "stack:rr30a_s0 map:rr30a session:0 objects:287 segments:5 channels:2\n",
      "stack:rr30a_s1 map:rr30a session:1 objects:275 segments:5 channels:2\n",
      "stack:rr30a_s2 map:rr30a session:2 objects:223 segments:5 channels:2\n",
      "stack:rr30a_s3 map:rr30a session:3 objects:307 segments:5 channels:2\n",
      "stack:rr30a_s4 map:rr30a session:4 objects:277 segments:5 channels:2\n",
      "stack:rr30a_s5 map:rr30a session:5 objects:282 segments:5 channels:2\n",
      "stack:rr30a_s6 map:rr30a session:6 objects:263 segments:5 channels:2\n",
      "stack:rr30a_s7 map:rr30a session:7 objects:270 segments:5 channels:2\n",
      "stack:rr30a_s8 map:rr30a session:8 objects:283 segments:5 channels:2\n",
      "stack:rr47b_s0 map:rr47b session:0 objects:178 segments:3 channels:2\n",
      "stack:rr47b_s1 map:rr47b session:1 objects:166 segments:3 channels:2\n",
      "stack:rr47b_s2 map:rr47b session:2 objects:167 segments:3 channels:2\n",
      "stack:rr47b_s3 map:rr47b session:3 objects:168 segments:3 channels:2\n",
      "stack:rr47b_s4 map:rr47b session:4 objects:159 segments:3 channels:2\n",
      "stack:rr47b_s5 map:rr47b session:5 objects:165 segments:3 channels:2\n",
      "stack:rr47b_s6 map:rr47b session:6 objects:172 segments:3 channels:2\n",
      "stack:rr47b_s7 map:rr47b session:7 objects:157 segments:3 channels:2\n",
      "stack:rr47b_s8 map:rr47b session:8 objects:158 segments:3 channels:2\n",
      "stack:rr49c_s0 map:rr49c session:0 objects:226 segments:3 channels:2\n",
      "stack:rr49c_s1 map:rr49c session:1 objects:233 segments:3 channels:2\n",
      "stack:rr49c_s2 map:rr49c session:2 objects:233 segments:3 channels:2\n",
      "stack:rr49c_s3 map:rr49c session:3 objects:220 segments:3 channels:2\n",
      "stack:rr49c_s4 map:rr49c session:4 objects:223 segments:3 channels:2\n",
      "stack:rr49c_s5 map:rr49c session:5 objects:208 segments:3 channels:2\n",
      "stack:rr50b_s0 map:rr50b session:0 objects:223 segments:4 channels:2\n",
      "stack:rr50b_s1 map:rr50b session:1 objects:222 segments:4 channels:2\n",
      "stack:rr50b_s2 map:rr50b session:2 objects:228 segments:4 channels:2\n",
      "stack:rr50b_s3 map:rr50b session:3 objects:228 segments:4 channels:2\n",
      "stack:rr50b_s4 map:rr50b session:4 objects:220 segments:4 channels:2\n",
      "stack:rr50b_s5 map:rr50b session:5 objects:228 segments:4 channels:2\n",
      "stack:rr50b_s6 map:rr50b session:6 objects:216 segments:4 channels:2\n",
      "stack:rr50b_s7 map:rr50b session:7 objects:201 segments:4 channels:2\n",
      "stack:rr50b_s8 map:rr50b session:8 objects:210 segments:4 channels:2\n",
      "stack:rr50b_s9 map:rr50b session:9 objects:197 segments:4 channels:2\n",
      "stack:rr52c_s0 map:rr52c session:0 objects:144 segments:3 channels:2\n",
      "stack:rr52c_s1 map:rr52c session:1 objects:147 segments:3 channels:2\n",
      "stack:rr52c_s2 map:rr52c session:2 objects:153 segments:3 channels:2\n",
      "stack:rr52c_s3 map:rr52c session:3 objects:169 segments:3 channels:2\n",
      "stack:rr52c_s4 map:rr52c session:4 objects:124 segments:3 channels:2\n",
      "stack:rr52c_s5 map:rr52c session:5 objects:127 segments:3 channels:2\n",
      "stack:rr52c_s6 map:rr52c session:6 objects:149 segments:3 channels:2\n",
      "stack:rr52c_s7 map:rr52c session:7 objects:143 segments:3 channels:2\n",
      "stack:rr52c_s8 map:rr52c session:8 objects:157 segments:3 channels:2\n",
      "stack:rr52c_s9 map:rr52c session:9 objects:169 segments:3 channels:2\n",
      "stack:rr52c_s10 map:rr52c session:10 objects:159 segments:3 channels:2\n",
      "stack:rr52c_s11 map:rr52c session:11 objects:176 segments:3 channels:2\n",
      "stack:rr52c_s12 map:rr52c session:12 objects:155 segments:3 channels:2\n",
      "stack:rr58b_s0 map:rr58b session:0 objects:270 segments:3 channels:2\n",
      "stack:rr58b_s1 map:rr58b session:1 objects:287 segments:3 channels:2\n",
      "stack:rr58b_s2 map:rr58b session:2 objects:294 segments:3 channels:2\n",
      "stack:rr58b_s3 map:rr58b session:3 objects:277 segments:3 channels:2\n",
      "stack:rr58b_s4 map:rr58b session:4 objects:307 segments:3 channels:2\n",
      "stack:rr58b_s5 map:rr58b session:5 objects:293 segments:3 channels:2\n",
      "stack:rr58b_s6 map:rr58b session:6 objects:289 segments:3 channels:2\n",
      "stack:rr58b_s7 map:rr58b session:7 objects:304 segments:3 channels:2\n",
      "stack:rr58b_s8 map:rr58b session:8 objects:299 segments:3 channels:2\n",
      "stack:rr58b_s9 map:rr58b session:9 objects:283 segments:3 channels:2\n",
      "stack:rr58b_s10 map:rr58b session:10 objects:288 segments:3 channels:2\n",
      "stack:rr58b_s11 map:rr58b session:11 objects:278 segments:3 channels:2\n",
      "stack:rr58b_s12 map:rr58b session:12 objects:302 segments:3 channels:2\n",
      "stack:rr58b_s13 map:rr58b session:13 objects:239 segments:3 channels:2\n",
      "stack:rr58b_s14 map:rr58b session:14 objects:236 segments:3 channels:2\n",
      "stack:rr58c_s0 map:rr58c session:0 objects:164 segments:3 channels:2\n",
      "stack:rr58c_s1 map:rr58c session:1 objects:155 segments:3 channels:2\n",
      "stack:rr58c_s2 map:rr58c session:2 objects:154 segments:3 channels:2\n",
      "stack:rr58c_s4 map:rr58c session:3 objects:143 segments:3 channels:2\n",
      "stack:rr58c_s5 map:rr58c session:4 objects:155 segments:3 channels:2\n",
      "stack:rr58c_s6 map:rr58c session:5 objects:151 segments:3 channels:2\n",
      "stack:rr58c_s7 map:rr58c session:6 objects:148 segments:3 channels:2\n",
      "stack:rr58c_s8 map:rr58c session:7 objects:141 segments:3 channels:2\n",
      "stack:rr58c_s9 map:rr58c session:8 objects:150 segments:3 channels:2\n",
      "stack:rr58c_s10 map:rr58c session:9 objects:143 segments:3 channels:2\n"
     ]
    }
   ],
   "source": [
    "for map in maps:\n",
    "    for stack in map:\n",
    "        print stack"
   ]
  },
  {
   "cell_type": "markdown",
   "metadata": {
    "collapsed": true
   },
   "source": [
    "### A mmStackPool holds a list of stack (use this to load a directory of .tif)"
   ]
  },
  {
   "cell_type": "code",
   "execution_count": 8,
   "metadata": {},
   "outputs": [
    {
     "name": "stdout",
     "output_type": "stream",
     "text": [
      "mmStackPool() loaded 0 stacks in 0.000755071640015 seconds.\n",
      "pool: num stacks:0 num obj:0\n"
     ]
    }
   ],
   "source": [
    "from pymapmanager.mmStack import mmStackPool\n",
    "\n",
    "#path = '/Users/cudmore/MapManagerData/richard/Nancy/rr30a/raw/'\n",
    "path = '/Volumes/fourt/MapManagerData/richard/Nancy/'\n",
    "\n",
    "stacks = mmStackPool(path)\n",
    "print stacks"
   ]
  },
  {
   "cell_type": "code",
   "execution_count": null,
   "metadata": {
    "collapsed": true
   },
   "outputs": [],
   "source": []
  }
 ],
 "metadata": {
  "anaconda-cloud": {},
  "kernelspec": {
   "display_name": "Python 2",
   "language": "python",
   "name": "python2"
  },
  "language_info": {
   "codemirror_mode": {
    "name": "ipython",
    "version": 2
   },
   "file_extension": ".py",
   "mimetype": "text/x-python",
   "name": "python",
   "nbconvert_exporter": "python",
   "pygments_lexer": "ipython2",
   "version": "2.7.13"
  }
 },
 "nbformat": 4,
 "nbformat_minor": 2
}
