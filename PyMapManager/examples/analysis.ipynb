{
 "cells": [
  {
   "cell_type": "code",
   "execution_count": 2,
   "metadata": {},
   "outputs": [
    {
     "name": "stdout",
     "output_type": "stream",
     "text": [
      "map rr30a loaded in 0.37 seconds.\n"
     ]
    }
   ],
   "source": [
    "from pymapmanager.mmMap import mmMap\n",
    "\n",
    "# load a map\n",
    "filePath = '/Users/cudmore/Desktop/data/cudmore/rr30a/rr30a.txt'\n",
    "m = mmMap(filePath=filePath)"
   ]
  },
  {
   "cell_type": "markdown",
   "metadata": {},
   "source": [
    "#### Get the mean/std/n for each segment in a stack"
   ]
  },
  {
   "cell_type": "code",
   "execution_count": 3,
   "metadata": {},
   "outputs": [
    {
     "data": {
      "text/html": [
       "<div>\n",
       "<table border=\"1\" class=\"dataframe\">\n",
       "  <thead>\n",
       "    <tr>\n",
       "      <th></th>\n",
       "      <th>mean</th>\n",
       "      <th>std</th>\n",
       "      <th>&lt;lambda&gt;</th>\n",
       "    </tr>\n",
       "    <tr>\n",
       "      <th></th>\n",
       "      <th>sLen3d_int1</th>\n",
       "      <th>sLen3d_int1</th>\n",
       "      <th>sLen3d_int1</th>\n",
       "    </tr>\n",
       "    <tr>\n",
       "      <th>parentID</th>\n",
       "      <th></th>\n",
       "      <th></th>\n",
       "      <th></th>\n",
       "    </tr>\n",
       "  </thead>\n",
       "  <tbody>\n",
       "    <tr>\n",
       "      <th>0</th>\n",
       "      <td>1.873956</td>\n",
       "      <td>0.588244</td>\n",
       "      <td>50</td>\n",
       "    </tr>\n",
       "    <tr>\n",
       "      <th>1</th>\n",
       "      <td>1.507003</td>\n",
       "      <td>0.557636</td>\n",
       "      <td>22</td>\n",
       "    </tr>\n",
       "    <tr>\n",
       "      <th>2</th>\n",
       "      <td>1.984370</td>\n",
       "      <td>0.720545</td>\n",
       "      <td>39</td>\n",
       "    </tr>\n",
       "    <tr>\n",
       "      <th>3</th>\n",
       "      <td>2.108810</td>\n",
       "      <td>0.453743</td>\n",
       "      <td>8</td>\n",
       "    </tr>\n",
       "    <tr>\n",
       "      <th>4</th>\n",
       "      <td>1.737929</td>\n",
       "      <td>0.769615</td>\n",
       "      <td>14</td>\n",
       "    </tr>\n",
       "  </tbody>\n",
       "</table>\n",
       "</div>"
      ],
      "text/plain": [
       "                mean         std    <lambda>\n",
       "         sLen3d_int1 sLen3d_int1 sLen3d_int1\n",
       "parentID                                    \n",
       "0           1.873956    0.588244          50\n",
       "1           1.507003    0.557636          22\n",
       "2           1.984370    0.720545          39\n",
       "3           2.108810    0.453743           8\n",
       "4           1.737929    0.769615          14"
      ]
     },
     "execution_count": 3,
     "metadata": {},
     "output_type": "execute_result"
    }
   ],
   "source": [
    "import numpy as np\n",
    "import pandas as pd\n",
    "\n",
    "stackIdx = 1\n",
    "df = m.stacks[stackIdx].stackdb\n",
    "\n",
    "stat = 'sLen3d_int1'\n",
    "pd.pivot_table(df,index=['parentID'],values=[stat],aggfunc=[np.mean, np.std, lambda x: len(x.dropna().unique())])\n",
    "\n",
    "# That last term 'lambda x: len(x.dropna().unique())' is used to count the number of spines in each segment.\n",
    "# This is getting complicated, time to learn python"
   ]
  },
  {
   "cell_type": "code",
   "execution_count": null,
   "metadata": {
    "collapsed": true
   },
   "outputs": [],
   "source": []
  }
 ],
 "metadata": {
  "kernelspec": {
   "display_name": "Python 2",
   "language": "python",
   "name": "python2"
  },
  "language_info": {
   "codemirror_mode": {
    "name": "ipython",
    "version": 2
   },
   "file_extension": ".py",
   "mimetype": "text/x-python",
   "name": "python",
   "nbconvert_exporter": "python",
   "pygments_lexer": "ipython2",
   "version": "2.7.13"
  }
 },
 "nbformat": 4,
 "nbformat_minor": 1
}
