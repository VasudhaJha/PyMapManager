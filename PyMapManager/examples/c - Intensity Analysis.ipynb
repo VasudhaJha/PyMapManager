{
 "cells": [
  {
   "cell_type": "markdown",
   "metadata": {},
   "source": [
    "### Load a map"
   ]
  },
  {
   "cell_type": "code",
   "execution_count": 62,
   "metadata": {},
   "outputs": [
    {
     "name": "stdout",
     "output_type": "stream",
     "text": [
      "map rr30a loaded in 0.45 seconds.\n"
     ]
    }
   ],
   "source": [
    "from pymapmanager.mmMap import mmMap\n",
    "\n",
    "filePath = 'exampleMaps/rr30a/rr30a.txt'\n",
    "m = mmMap(filePath=filePath)"
   ]
  },
  {
   "cell_type": "markdown",
   "metadata": {},
   "source": [
    "### Generate new analysis by doing algebra on existing annotations"
   ]
  },
  {
   "cell_type": "code",
   "execution_count": 63,
   "metadata": {},
   "outputs": [
    {
     "name": "stdout",
     "output_type": "stream",
     "text": [
      "mmMap.getMapValues3() took 0.03 seconds\n"
     ]
    }
   ],
   "source": [
    "import numpy as np\n",
    "from pymapmanager.mmUtil import newplotdict\n",
    "\n",
    "my_pd = newplotdict()\n",
    "my_pd['segmentid'] = None # None for all map segments\n",
    "my_pd['xstat'] = 'ubssSum_int2' # background-subtracted spine sum, channel 2\n",
    "my_pd['ystat'] = 'ubsdSum_int2' # background subtracted dendrite sum, channel 2\n",
    "my_pd = m.getMapValues3(my_pd)\n",
    "\n",
    "# make a new matrix to hold the new stat\n",
    "mRows, nCols = my_pd['x'].shape\n",
    "myNewStat = np.zeros([mRows,nCols])\n",
    "myNewStat[:] = 'nan'\n",
    "\n",
    "# do the algebra\n",
    "myNewStat = my_pd['x'] / my_pd['y'] # spine intensity / segment intensity"
   ]
  },
  {
   "cell_type": "markdown",
   "metadata": {},
   "source": [
    "### Plot our new analysis"
   ]
  },
  {
   "cell_type": "code",
   "execution_count": 64,
   "metadata": {},
   "outputs": [
    {
     "data": {
      "image/png": "[encoded data removed]",
      "text/plain": [
       "<matplotlib.figure.Figure at 0x11c44be50>"
      ]
     },
     "metadata": {},
     "output_type": "display_data"
    }
   ],
   "source": [
    "# plot with matplotlib\n",
    "# %matplotlib notebook\n",
    "import matplotlib.pyplot as plt\n",
    "\n",
    "# set some matplotlib defaults so our plots look better\n",
    "import matplotlib as mpl\n",
    "fontsize = 16\n",
    "mpl.rcParams['xtick.labelsize'] = fontsize \n",
    "mpl.rcParams['ytick.labelsize'] = fontsize \n",
    "\n",
    "x = my_pd['x'] # the original 'background subtracted spine sum'\n",
    "y = myNewStat # our new stat\n",
    "plt.scatter(x, y, marker='.', c='k', s=15)\n",
    "plt.xlabel('Background Subtracted Spine Sum', fontsize=16)\n",
    "plt.ylabel('Background Subtracted Spine Sum / \\nBackground Subtracted Dendrite Sum', fontsize=16)\n",
    "plt.show()"
   ]
  },
  {
   "cell_type": "markdown",
   "metadata": {},
   "source": [
    "## Homework\n",
    "\n",
    " - Do the same but limit analysis to one map segment. Hint, use pd['segmentID']=[1] for segment 1.\n",
    " - Do the same but get statistics (mean/sd/se) for each map segment"
   ]
  },
  {
   "cell_type": "markdown",
   "metadata": {
    "collapsed": true
   },
   "source": [
    "### Nearest neighbor analysis along a dendritic segment\n",
    "\n",
    "This will pull a spine annotation and calculate its autocorrelation with its nearest neighbors along a segment.\n",
    "\n",
    "Autocorrelation of a spine with its neighbor is the autocorrelation at lag 1."
   ]
  },
  {
   "cell_type": "code",
   "execution_count": 65,
   "metadata": {
    "collapsed": true
   },
   "outputs": [],
   "source": [
    "# See: http://greenteapress.com/thinkdsp/html/thinkdsp006.html\n",
    "\n",
    "def serial_corr(wave, lag=1):\n",
    "    n = len(wave)\n",
    "    y1 = wave[lag:]\n",
    "    y2 = wave[:n-lag]\n",
    "    corr = np.corrcoef(y1, y2)[0, 1]\n",
    "    return corr\n",
    "\n",
    "def autocorr(wave):\n",
    "    lags = range(len(wave)//2)\n",
    "    corrs = [serial_corr(wave, lag) for lag in lags]\n",
    "    return lags, corrs\n",
    "\n",
    "def segmentAnalysis(map, ps):\n",
    "    ps['ystat'] = 'pDist'\n",
    "\n",
    "    result = np.zeros([map.numMapSegments,map.numSessions])\n",
    "    result[:] = 'nan'\n",
    "    \n",
    "    for i in range(map.numMapSegments):\n",
    "        for j in range(map.numSessions):\n",
    "            stackSegment = map._getStackSegmentID(i, j)\n",
    "            if stackSegment is not None:\n",
    "                ps['segmentid'] = [stackSegment]\n",
    "                ps = map.stacks[j].getStackValues3(ps)\n",
    "                # sort by pDist and make ['x'] values follow\n",
    "                sortedIdx = np.argsort(ps['y'])\n",
    "                xSorted = ps['x'][sortedIdx]\n",
    "                ySorted = ps['y'][sortedIdx]\n",
    "                \n",
    "                xSorted = xSorted[~np.isnan(xSorted)]\n",
    "                [lags, corrs] = autocorr(xSorted)\n",
    "                result[i,j] = corrs[1]\n",
    "    return result\n"
   ]
  },
  {
   "cell_type": "code",
   "execution_count": 66,
   "metadata": {},
   "outputs": [
    {
     "data": {
      "image/png": "[encoded data removed]",
      "text/plain": [
       "<matplotlib.figure.Figure at 0x11bc38350>"
      ]
     },
     "metadata": {},
     "output_type": "display_data"
    },
    {
     "data": {
      "text/plain": [
       "Text(0,0.5,u'Map Segment')"
      ]
     },
     "execution_count": 66,
     "metadata": {},
     "output_type": "execute_result"
    }
   ],
   "source": [
    "ps = newplotdict()\n",
    "ps['xstat'] = 'ubssSum_int2' # spine intensity, channel 2\n",
    "\n",
    "# each value in result[i][j] is the autocorrelation at lag 1 for each map segment (i) at each session (j).\n",
    "result = segmentAnalysis(m, ps)\n",
    "\n",
    "plt.imshow(result)\n",
    "plt.show()\n",
    "plt.xlabel('Session Number', fontsize=16)\n",
    "plt.ylabel('Map Segment', fontsize=16)\n"
   ]
  },
  {
   "cell_type": "markdown",
   "metadata": {},
   "source": [
    "See:\n",
    "    \n",
    "    "
   ]
  },
  {
   "cell_type": "code",
   "execution_count": null,
   "metadata": {
    "collapsed": true
   },
   "outputs": [],
   "source": []
  },
  {
   "cell_type": "code",
   "execution_count": null,
   "metadata": {
    "collapsed": true
   },
   "outputs": [],
   "source": []
  }
 ],
 "metadata": {
  "anaconda-cloud": {},
  "kernelspec": {
   "display_name": "Python 2",
   "language": "python",
   "name": "python2"
  },
  "language_info": {
   "codemirror_mode": {
    "name": "ipython",
    "version": 2
   },
   "file_extension": ".py",
   "mimetype": "text/x-python",
   "name": "python",
   "nbconvert_exporter": "python",
   "pygments_lexer": "ipython2",
   "version": "2.7.14"
  }
 },
 "nbformat": 4,
 "nbformat_minor": 2
}
