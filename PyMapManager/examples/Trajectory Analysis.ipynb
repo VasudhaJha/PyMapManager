{
 "cells": [
  {
   "cell_type": "markdown",
   "metadata": {},
   "source": [
    "### Load a map"
   ]
  },
  {
   "cell_type": "code",
   "execution_count": 1,
   "metadata": {
    "collapsed": false
   },
   "outputs": [
    {
     "name": "stderr",
     "output_type": "stream",
     "text": [
      "/Users/cudmore/anaconda/lib/python2.7/site-packages/numpy/lib/npyio.py:893: UserWarning: loadtxt: Empty input file: \"/Users/cudmore/Dropbox/MapManagerData/server/public/amit1/amit1_segMap.txt\"\n",
      "  warnings.warn('loadtxt: Empty input file: \"%s\"' % fname)\n"
     ]
    },
    {
     "name": "stdout",
     "output_type": "stream",
     "text": [
      "map amit1 loaded in 0.38 seconds.\n"
     ]
    }
   ],
   "source": [
    "from pymapmanager.mmMap import mmMap\n",
    "\n",
    "# load a map\n",
    "filePath = '/Users/cudmore/Dropbox/MapManagerData/server/public/amit1/amit1.txt'\n",
    "m = mmMap(filePath=filePath)"
   ]
  },
  {
   "cell_type": "code",
   "execution_count": null,
   "metadata": {
    "collapsed": true
   },
   "outputs": [],
   "source": []
  }
 ],
 "metadata": {
  "anaconda-cloud": {},
  "kernelspec": {
   "display_name": "Python [default]",
   "language": "python",
   "name": "python2"
  },
  "language_info": {
   "codemirror_mode": {
    "name": "ipython",
    "version": 2
   },
   "file_extension": ".py",
   "mimetype": "text/x-python",
   "name": "python",
   "nbconvert_exporter": "python",
   "pygments_lexer": "ipython2",
   "version": "2.7.12"
  }
 },
 "nbformat": 4,
 "nbformat_minor": 2
}
