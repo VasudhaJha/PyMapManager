{
 "cells": [
  {
   "cell_type": "markdown",
   "metadata": {},
   "source": [
    "The Map Manager IO class (mmio) connects to a server and provides an interface for retreiving Map Manager datasets."
   ]
  },
  {
   "cell_type": "markdown",
   "metadata": {},
   "source": [
    "Connect to mmio server and retrieve available maps"
   ]
  },
  {
   "cell_type": "code",
   "execution_count": 1,
   "metadata": {
    "collapsed": false
   },
   "outputs": [
    {
     "name": "stdout",
     "output_type": "stream",
     "text": [
      "Success, the server at http://robertcudmore.org/mmserver/ is up and running!\n",
      "[\"rr47b\", \"rr30a\", \"rr58c\"]\n"
     ]
    }
   ],
   "source": [
    "from pymapmanager.mmio import mmio\n",
    "\n",
    "server_url = 'http://robertcudmore.org/mmserver/'\n",
    "username = 'public'\n",
    "\n",
    "server = mmio.mmio(server_url=server_url, username=username)\n",
    "\n",
    "maplist = server.maplist()\n",
    "print maplist"
   ]
  },
  {
   "cell_type": "markdown",
   "metadata": {},
   "source": [
    "The main class library can load from the server just like it can load from a local file"
   ]
  },
  {
   "cell_type": "code",
   "execution_count": 1,
   "metadata": {
    "collapsed": false
   },
   "outputs": [
    {
     "name": "stdout",
     "output_type": "stream",
     "text": [
      "map rr30a loaded in 29.12 seconds.\n"
     ]
    }
   ],
   "source": [
    "from pymapmanager.mmMap import mmMap\n",
    "\n",
    "mapname = 'rr30a'\n",
    "m = mmMap(urlmap=mapname)\n"
   ]
  },
  {
   "cell_type": "code",
   "execution_count": 2,
   "metadata": {
    "collapsed": false
   },
   "outputs": [
    {
     "name": "stdout",
     "output_type": "stream",
     "text": [
      "stack:rr30a_s0 map:rr30a session:0 objects:287 segments:5 channels:2\n",
      "stack:rr30a_s1 map:rr30a session:1 objects:275 segments:5 channels:2\n",
      "stack:rr30a_s2 map:rr30a session:2 objects:223 segments:5 channels:2\n",
      "stack:rr30a_s3 map:rr30a session:3 objects:307 segments:5 channels:2\n",
      "stack:rr30a_s4 map:rr30a session:4 objects:277 segments:5 channels:2\n",
      "stack:rr30a_s5 map:rr30a session:5 objects:282 segments:5 channels:2\n",
      "stack:rr30a_s6 map:rr30a session:6 objects:263 segments:5 channels:2\n",
      "stack:rr30a_s7 map:rr30a session:7 objects:270 segments:5 channels:2\n",
      "stack:rr30a_s8 map:rr30a session:8 objects:283 segments:5 channels:2\n"
     ]
    }
   ],
   "source": [
    "for stack in m:\n",
    "    print stack"
   ]
  },
  {
   "cell_type": "markdown",
   "metadata": {},
   "source": [
    "The server can do analysis in the cloud, Try the following in your browser\n",
    "    http://robertcudmore.org/mmserver/plot"
   ]
  },
  {
   "cell_type": "code",
   "execution_count": null,
   "metadata": {
    "collapsed": true
   },
   "outputs": [],
   "source": []
  }
 ],
 "metadata": {
  "anaconda-cloud": {},
  "kernelspec": {
   "display_name": "Python [conda root]",
   "language": "python",
   "name": "conda-root-py"
  },
  "language_info": {
   "codemirror_mode": {
    "name": "ipython",
    "version": 2
   },
   "file_extension": ".py",
   "mimetype": "text/x-python",
   "name": "python",
   "nbconvert_exporter": "python",
   "pygments_lexer": "ipython2",
   "version": "2.7.12"
  }
 },
 "nbformat": 4,
 "nbformat_minor": 2
}
